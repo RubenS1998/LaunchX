{
 "cells": [
  {
   "cell_type": "markdown",
   "metadata": {},
   "source": [
    "# Ejercicio 1: Uso de funciones en Python"
   ]
  },
  {
   "cell_type": "code",
   "execution_count": 57,
   "metadata": {},
   "outputs": [
    {
     "name": "stdout",
     "output_type": "stream",
     "text": [
      "Tanque 1 = 89\n",
      "Tanque 2 = 69 \n",
      "Tanque 3 = 49\n",
      "El promedio de los tanques es = 69.0\n"
     ]
    }
   ],
   "source": [
    "def combustible (tanque1=1, tanque2=2, tanque3=3):\n",
    "   \n",
    "    print(f'''Tanque 1 = {tanque1}\n",
    "Tanque 2 = {tanque2} \n",
    "Tanque 3 = {tanque3}''')\n",
    "    prom = (tanque1 + tanque2 + tanque3) / 3\n",
    "    print(f'El promedio de los tanques es = {prom}')\n",
    "    \n",
    "combustible(89,69,49)"
   ]
  },
  {
   "cell_type": "markdown",
   "metadata": {},
   "source": [
    "# Ejercicio 2: Trabajo con argumentos de palabra clave"
   ]
  },
  {
   "cell_type": "code",
   "execution_count": 100,
   "metadata": {},
   "outputs": [
    {
     "name": "stdout",
     "output_type": "stream",
     "text": [
      "**REPORTE GENERAL** \n",
      "*El destino es: Jupiter\n",
      "* Tiempo total del viaje: 120 minutos \n",
      "* Combustible total: 8133 galones\n"
     ]
    }
   ],
   "source": [
    "\n",
    "def info (destino, *tiempo, **combustible):\n",
    "    reporte = f'**REPORTE GENERAL** \\n*El destino es: {destino}\\n* Tiempo total del viaje: {sum(tiempo)} minutos \\n* Combustible total: {sum(combustible.values())} galones'\n",
    "    print(reporte)\n",
    "    \n",
    "    \n",
    "info('Jupiter', 65, 12, 43, principal=2812, externo=5321)"
   ]
  }
 ],
 "metadata": {
  "interpreter": {
   "hash": "b31b22927b13f415636e8cd87f0a6eb6e02e3cef54080787cb21ecfe1af40ca3"
  },
  "kernelspec": {
   "display_name": "Python 3.10.2 64-bit",
   "language": "python",
   "name": "python3"
  },
  "language_info": {
   "codemirror_mode": {
    "name": "ipython",
    "version": 3
   },
   "file_extension": ".py",
   "mimetype": "text/x-python",
   "name": "python",
   "nbconvert_exporter": "python",
   "pygments_lexer": "ipython3",
   "version": "3.10.2"
  },
  "orig_nbformat": 4
 },
 "nbformat": 4,
 "nbformat_minor": 2
}
