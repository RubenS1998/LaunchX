{
 "cells": [
  {
   "cell_type": "markdown",
   "metadata": {},
   "source": [
    "# Problema 1"
   ]
  },
  {
   "cell_type": "code",
   "execution_count": 37,
   "metadata": {},
   "outputs": [
    {
     "name": "stdout",
     "output_type": "stream",
     "text": [
      "Tranquilo, es un dia como cualquier otro :D\n"
     ]
    }
   ],
   "source": [
    "velo = int(input(\"Velocidad actual del asteroide:\"))\n",
    "warning = 25\n",
    "if velo >= warning:\n",
    "    print(\"ADVERTENCIA\")\n",
    "else:\n",
    "    print(\"Tranquilo, es un dia como cualquier otro :D\")"
   ]
  },
  {
   "cell_type": "markdown",
   "metadata": {},
   "source": [
    "# Problema 2"
   ]
  },
  {
   "cell_type": "code",
   "execution_count": 28,
   "metadata": {},
   "outputs": [
    {
     "name": "stdout",
     "output_type": "stream",
     "text": [
      "SAFE, Nada de que preocuparse\n"
     ]
    }
   ],
   "source": [
    "asteroid = 19\n",
    "if asteroid >= 20:\n",
    "    print(\"Advertencia, ¡busca un asteroide en el cielo!\")\n",
    "else:\n",
    "    print(\"SAFE, Nada de que preocuparse\")\n",
    "\n"
   ]
  },
  {
   "cell_type": "markdown",
   "metadata": {},
   "source": [
    "# Problema 3"
   ]
  },
  {
   "cell_type": "code",
   "execution_count": 36,
   "metadata": {},
   "outputs": [
    {
     "name": "stdout",
     "output_type": "stream",
     "text": [
      "El asteroide se quemara a medida que entre a nuestra admosfera\n",
      "¿Que es eso?, ¡Que impresionante rayo de luz!\n"
     ]
    }
   ],
   "source": [
    "dimension= int(input(\"Dimension del Asteroide:   (MTS)\"))\n",
    "velo = int(input(\"Velocidad actual del asteroide:  (KM/S)\"))\n",
    "rayo = 20\n",
    "\n",
    "if dimension > 25 and dimension < 1000:\n",
    "    print(\"Warning...Impacto Inminente...WARNING\")\n",
    "else:\n",
    "    print(\"El asteroide se quemara a medida que entre a nuestra admosfera\")\n",
    "if velo >=20:\n",
    "    print(\"¿Que es eso?, ¡Que impresionante rayo de luz!\")\n",
    "else:\n",
    "    print(\"SAFE, Nada de que preocuparse\")\n",
    "\n"
   ]
  }
 ],
 "metadata": {
  "interpreter": {
   "hash": "c7fee561edd23f6c99ea2d93be22904b47a92f614898598b6ce7ad56ff059d68"
  },
  "kernelspec": {
   "display_name": "Python 3.10.2 64-bit (windows store)",
   "language": "python",
   "name": "python3"
  },
  "language_info": {
   "codemirror_mode": {
    "name": "ipython",
    "version": 3
   },
   "file_extension": ".py",
   "mimetype": "text/x-python",
   "name": "python",
   "nbconvert_exporter": "python",
   "pygments_lexer": "ipython3",
   "version": "3.10.2"
  },
  "orig_nbformat": 4
 },
 "nbformat": 4,
 "nbformat_minor": 2
}
