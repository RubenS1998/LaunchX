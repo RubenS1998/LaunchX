{
 "cells": [
  {
   "cell_type": "markdown",
   "metadata": {},
   "source": [
    "# Ejercicio 1: Creación de diccionarios de Python"
   ]
  },
  {
   "cell_type": "code",
   "execution_count": 7,
   "metadata": {},
   "outputs": [
    {
     "name": "stdout",
     "output_type": "stream",
     "text": [
      "Planeta:  mars \n",
      "Lunas:  2\n"
     ]
    }
   ],
   "source": [
    "planet = {\n",
    "    'name': 'mars',\n",
    "    'moons': 2\n",
    "}\n",
    "print('Planeta: ', planet['name'], '\\n' 'Lunas: ', planet['moons'])"
   ]
  },
  {
   "cell_type": "code",
   "execution_count": 14,
   "metadata": {},
   "outputs": [
    {
     "name": "stdout",
     "output_type": "stream",
     "text": [
      "Planeta:  mars \n",
      "Su circunferencia polar es:  6752 KM\n"
     ]
    }
   ],
   "source": [
    "planet['circunferencia (km)'] = {\n",
    "    'polar': 6752,\n",
    "    'equatorial': 6792\n",
    "\n",
    "}\n",
    "print('Planeta: ', planet['name'],'\\nSu circunferencia polar es: ',planet['circunferencia (km)']['polar'], 'KM')\n"
   ]
  },
  {
   "cell_type": "markdown",
   "metadata": {},
   "source": [
    "# Ejercicio 2: Programación dinámica con diccionarios"
   ]
  },
  {
   "cell_type": "code",
   "execution_count": 26,
   "metadata": {},
   "outputs": [
    {
     "name": "stdout",
     "output_type": "stream",
     "text": [
      "Lunas totales:  214\n",
      "Planetas totales:  12\n",
      "El promedio de Lunas por Planetas es:  17.833333333333332\n"
     ]
    }
   ],
   "source": [
    "planet_moons = {\n",
    "    'mercury': 0,\n",
    "    'venus': 0,\n",
    "    'earth': 1,\n",
    "    'mars': 2,\n",
    "    'jupiter': 79,\n",
    "    'saturn': 82,\n",
    "    'uranus': 27,\n",
    "    'neptune': 14,\n",
    "    'pluto': 5,\n",
    "    'haumea': 2,\n",
    "    'makemake': 1,\n",
    "    'eris': 1\n",
    "}\n",
    "\n",
    "moons = 0\n",
    "num_planets = len(planet_moons)\n",
    "\n",
    "for values in planet_moons.values():\n",
    "    moons = moons + values\n",
    "\n",
    "\n",
    "prom = moons / num_planets\n",
    "print('Lunas totales: ', moons)\n",
    "print('Planetas totales: ',num_planets)\n",
    "print('El promedio de Lunas por Planetas es: ', prom)"
   ]
  }
 ],
 "metadata": {
  "interpreter": {
   "hash": "b31b22927b13f415636e8cd87f0a6eb6e02e3cef54080787cb21ecfe1af40ca3"
  },
  "kernelspec": {
   "display_name": "Python 3.10.2 64-bit",
   "language": "python",
   "name": "python3"
  },
  "language_info": {
   "codemirror_mode": {
    "name": "ipython",
    "version": 3
   },
   "file_extension": ".py",
   "mimetype": "text/x-python",
   "name": "python",
   "nbconvert_exporter": "python",
   "pygments_lexer": "ipython3",
   "version": "3.10.2"
  },
  "orig_nbformat": 4
 },
 "nbformat": 4,
 "nbformat_minor": 2
}
