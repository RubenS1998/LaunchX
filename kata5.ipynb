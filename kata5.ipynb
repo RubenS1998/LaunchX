{
 "cells": [
  {
   "cell_type": "markdown",
   "metadata": {},
   "source": [
    "# Ejercicio 1: Utilizar operadores aritméticos"
   ]
  },
  {
   "cell_type": "code",
   "execution_count": 48,
   "metadata": {},
   "outputs": [
    {
     "name": "stdout",
     "output_type": "stream",
     "text": [
      "La distancia entre Jupiter y la Tierra es:\n",
      "628949330  kilometros\n",
      "390577534  Millas\n"
     ]
    }
   ],
   "source": [
    "from math import ceil\n",
    "Tierra = 149597870 # km\n",
    "jupiter = 778547200 # km\n",
    "distkm = Tierra - jupiter\n",
    "distMil = distkm * 0.621\n",
    "distkm = str(abs(distkm))\n",
    "distMil = str(ceil(abs(distMil)))\n",
    "\n",
    "km = (distkm)\n",
    "mill = (distMil)\n",
    "\n",
    "print(\"La distancia entre Jupiter y la Tierra es:\")\n",
    "print(km + \"  kilometros\")\n",
    "print(mill + \"  Millas\")"
   ]
  },
  {
   "cell_type": "markdown",
   "metadata": {},
   "source": [
    "# Ejercicio 2: convierte cadenas en números y usa valores absolutos"
   ]
  },
  {
   "cell_type": "code",
   "execution_count": 55,
   "metadata": {},
   "outputs": [
    {
     "name": "stdout",
     "output_type": "stream",
     "text": [
      "20\n",
      "13\n"
     ]
    }
   ],
   "source": [
    "from math import ceil\n",
    "planeta1 = int(input(\"Ingrese la distancia del sol del planeta en Km:\"))\n",
    "planeta2 = int(input(\"Ingrese la distancia del sol del planeta en Km:\"))\n",
    "op = (planeta1 - (planeta2))\n",
    "opmill = (op * 0.621)\n",
    "print (abs(op))\n",
    "print (ceil(abs(opmill)))"
   ]
  }
 ],
 "metadata": {
  "interpreter": {
   "hash": "b31b22927b13f415636e8cd87f0a6eb6e02e3cef54080787cb21ecfe1af40ca3"
  },
  "kernelspec": {
   "display_name": "Python 3.10.2 64-bit",
   "language": "python",
   "name": "python3"
  },
  "language_info": {
   "codemirror_mode": {
    "name": "ipython",
    "version": 3
   },
   "file_extension": ".py",
   "mimetype": "text/x-python",
   "name": "python",
   "nbconvert_exporter": "python",
   "pygments_lexer": "ipython3",
   "version": "3.10.2"
  },
  "orig_nbformat": 4
 },
 "nbformat": 4,
 "nbformat_minor": 2
}
