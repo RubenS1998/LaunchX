{
 "cells": [
  {
   "cell_type": "markdown",
   "metadata": {},
   "source": [
    "# Ejercicio 1: Crear y usar listas de Python"
   ]
  },
  {
   "cell_type": "code",
   "execution_count": 12,
   "metadata": {},
   "outputs": [
    {
     "name": "stdout",
     "output_type": "stream",
     "text": [
      "8\n",
      "Son:  9 planetas  y el ultimo planeta en la liste es:  Pluton\n"
     ]
    }
   ],
   "source": [
    "planets = ['Mercurio', 'Venus', 'Tierra', 'Marte', 'Jupiter', 'Saturno', 'Urano', 'Neptuno']\n",
    "planetas = len(planets)\n",
    "print(planetas)\n",
    "planets.append('Pluton')\n",
    "updated = len(planets)\n",
    "print('Son: ', updated, 'planetas' , \" y el ultimo planeta en la liste es: \" , planets[-1])"
   ]
  },
  {
   "cell_type": "markdown",
   "metadata": {},
   "source": [
    "# Ejercicio 2: Trabajando con datos de una lista"
   ]
  },
  {
   "cell_type": "code",
   "execution_count": 32,
   "metadata": {},
   "outputs": [
    {
     "name": "stdout",
     "output_type": "stream",
     "text": [
      "Elegiste el plantea : Marte     Y su posicion es la número:  4\n",
      "Los planetas mas CERCANOS al sol de tu seleccion fueron:  ['Mercurio', 'Venus', 'Tierra']\n",
      "Los planetas mas LEJANOS al sol de tu seleccion fueron:  ['Jupiter', 'Saturno', 'Urano', 'Neptuno']\n"
     ]
    }
   ],
   "source": [
    "sistemaSolar = ['Mercurio', 'Venus', 'Tierra', 'Marte', 'Jupiter', 'Saturno', 'Urano', 'Neptuno']\n",
    "seleccion = (input('Nombre del planeta: ** TIP ** Inica la palabra con una MAYUSCULA'))\n",
    "seleccion = sistemaSolar.index(seleccion)\n",
    "print('Elegiste el plantea :', sistemaSolar[ seleccion ] , '    Y su posicion es la número: ', seleccion + 1)\n",
    "cercanos = sistemaSolar [0: seleccion]\n",
    "print('Los planetas mas CERCANOS al sol de tu seleccion fueron: ', cercanos) \n",
    "lejanos = sistemaSolar [seleccion  +1 : 8]\n",
    "print('Los planetas mas LEJANOS al sol de tu seleccion fueron: ',lejanos) \n",
    "\n"
   ]
  }
 ],
 "metadata": {
  "interpreter": {
   "hash": "b31b22927b13f415636e8cd87f0a6eb6e02e3cef54080787cb21ecfe1af40ca3"
  },
  "kernelspec": {
   "display_name": "Python 3.10.2 64-bit",
   "language": "python",
   "name": "python3"
  },
  "language_info": {
   "codemirror_mode": {
    "name": "ipython",
    "version": 3
   },
   "file_extension": ".py",
   "mimetype": "text/x-python",
   "name": "python",
   "nbconvert_exporter": "python",
   "pygments_lexer": "ipython3",
   "version": "3.10.2"
  },
  "orig_nbformat": 4
 },
 "nbformat": 4,
 "nbformat_minor": 2
}
